{
 "cells": [
  {
   "cell_type": "markdown",
   "id": "93bf4b42",
   "metadata": {},
   "source": [
    "# Loading Dataset"
   ]
  },
  {
   "cell_type": "code",
   "execution_count": 1,
   "id": "2a9dd730",
   "metadata": {},
   "outputs": [
    {
     "name": "stdout",
     "output_type": "stream",
     "text": [
      "<class 'pandas.core.frame.DataFrame'>\n",
      "RangeIndex: 87840 entries, 0 to 87839\n",
      "Data columns (total 19 columns):\n",
      " #   Column  Non-Null Count  Dtype  \n",
      "---  ------  --------------  -----  \n",
      " 0   0       87840 non-null  object \n",
      " 1   AC 1    43708 non-null  float64\n",
      " 2   AC 2    43711 non-null  float64\n",
      " 3   AC 3    43713 non-null  float64\n",
      " 4   AC 4    43704 non-null  float64\n",
      " 5   AC 5    43716 non-null  float64\n",
      " 6   AC 6    43717 non-null  float64\n",
      " 7   AC 7    43679 non-null  float64\n",
      " 8   AC 8    43704 non-null  float64\n",
      " 9   AC 9    43654 non-null  float64\n",
      " 10  AC 10   43690 non-null  float64\n",
      " 11  AC 11   43670 non-null  float64\n",
      " 12  AC 12   43713 non-null  float64\n",
      " 13  AC 13   43719 non-null  float64\n",
      " 14  AC 14   43696 non-null  float64\n",
      " 15  AC 15   43715 non-null  float64\n",
      " 16  AC 16   43710 non-null  float64\n",
      " 17  AC 17   43714 non-null  float64\n",
      " 18  AC 18   43723 non-null  float64\n",
      "dtypes: float64(18), object(1)\n",
      "memory usage: 12.7+ MB\n"
     ]
    }
   ],
   "source": [
    "import pandas as pd\n",
    "import seaborn as sns\n",
    "import matplotlib.pyplot as plt\n",
    "%matplotlib inline\n",
    "data=pd.read_csv(\"C:\\\\DS\\\\AC_Data.csv\")\n",
    "data.info()"
   ]
  },
  {
   "cell_type": "markdown",
   "id": "03634672",
   "metadata": {},
   "source": [
    "# Data Preprocessing"
   ]
  },
  {
   "cell_type": "code",
   "execution_count": 2,
   "id": "cee77ff1",
   "metadata": {},
   "outputs": [
    {
     "data": {
      "text/html": [
       "<div>\n",
       "<style scoped>\n",
       "    .dataframe tbody tr th:only-of-type {\n",
       "        vertical-align: middle;\n",
       "    }\n",
       "\n",
       "    .dataframe tbody tr th {\n",
       "        vertical-align: top;\n",
       "    }\n",
       "\n",
       "    .dataframe thead th {\n",
       "        text-align: right;\n",
       "    }\n",
       "</style>\n",
       "<table border=\"1\" class=\"dataframe\">\n",
       "  <thead>\n",
       "    <tr style=\"text-align: right;\">\n",
       "      <th></th>\n",
       "      <th>Date</th>\n",
       "      <th>AC 1</th>\n",
       "      <th>AC 2</th>\n",
       "      <th>AC 3</th>\n",
       "      <th>AC 4</th>\n",
       "      <th>AC 5</th>\n",
       "      <th>AC 6</th>\n",
       "      <th>AC 7</th>\n",
       "      <th>AC 8</th>\n",
       "      <th>AC 9</th>\n",
       "      <th>AC 10</th>\n",
       "      <th>AC 11</th>\n",
       "      <th>AC 12</th>\n",
       "      <th>AC 13</th>\n",
       "      <th>AC 14</th>\n",
       "      <th>AC 15</th>\n",
       "      <th>AC 16</th>\n",
       "      <th>AC 17</th>\n",
       "      <th>AC 18</th>\n",
       "    </tr>\n",
       "  </thead>\n",
       "  <tbody>\n",
       "    <tr>\n",
       "      <th>0</th>\n",
       "      <td>2019-08-01 00:00:00</td>\n",
       "      <td>7.518632</td>\n",
       "      <td>8.788315</td>\n",
       "      <td>0.000000</td>\n",
       "      <td>0.000000</td>\n",
       "      <td>2.617045</td>\n",
       "      <td>4.079041</td>\n",
       "      <td>2.782276</td>\n",
       "      <td>4.624447</td>\n",
       "      <td>5.222060</td>\n",
       "      <td>2.151238</td>\n",
       "      <td>1.585072</td>\n",
       "      <td>0.560373</td>\n",
       "      <td>3.142941</td>\n",
       "      <td>2.749470</td>\n",
       "      <td>5.417774</td>\n",
       "      <td>4.113460</td>\n",
       "      <td>3.305072</td>\n",
       "      <td>6.735981</td>\n",
       "    </tr>\n",
       "    <tr>\n",
       "      <th>1</th>\n",
       "      <td>2019-08-01 00:01:00</td>\n",
       "      <td>NaN</td>\n",
       "      <td>NaN</td>\n",
       "      <td>NaN</td>\n",
       "      <td>NaN</td>\n",
       "      <td>NaN</td>\n",
       "      <td>NaN</td>\n",
       "      <td>NaN</td>\n",
       "      <td>NaN</td>\n",
       "      <td>NaN</td>\n",
       "      <td>NaN</td>\n",
       "      <td>NaN</td>\n",
       "      <td>NaN</td>\n",
       "      <td>NaN</td>\n",
       "      <td>NaN</td>\n",
       "      <td>NaN</td>\n",
       "      <td>NaN</td>\n",
       "      <td>NaN</td>\n",
       "      <td>NaN</td>\n",
       "    </tr>\n",
       "    <tr>\n",
       "      <th>2</th>\n",
       "      <td>2019-08-01 00:02:00</td>\n",
       "      <td>7.426114</td>\n",
       "      <td>8.940615</td>\n",
       "      <td>0.000000</td>\n",
       "      <td>0.000000</td>\n",
       "      <td>2.581625</td>\n",
       "      <td>3.781231</td>\n",
       "      <td>2.529366</td>\n",
       "      <td>5.057423</td>\n",
       "      <td>5.349465</td>\n",
       "      <td>2.414715</td>\n",
       "      <td>2.168184</td>\n",
       "      <td>1.818730</td>\n",
       "      <td>3.085110</td>\n",
       "      <td>2.720484</td>\n",
       "      <td>3.302422</td>\n",
       "      <td>3.986483</td>\n",
       "      <td>3.220588</td>\n",
       "      <td>6.379500</td>\n",
       "    </tr>\n",
       "    <tr>\n",
       "      <th>3</th>\n",
       "      <td>2019-08-01 00:03:00</td>\n",
       "      <td>NaN</td>\n",
       "      <td>NaN</td>\n",
       "      <td>NaN</td>\n",
       "      <td>NaN</td>\n",
       "      <td>NaN</td>\n",
       "      <td>NaN</td>\n",
       "      <td>NaN</td>\n",
       "      <td>NaN</td>\n",
       "      <td>NaN</td>\n",
       "      <td>NaN</td>\n",
       "      <td>NaN</td>\n",
       "      <td>NaN</td>\n",
       "      <td>NaN</td>\n",
       "      <td>NaN</td>\n",
       "      <td>NaN</td>\n",
       "      <td>NaN</td>\n",
       "      <td>NaN</td>\n",
       "      <td>NaN</td>\n",
       "    </tr>\n",
       "    <tr>\n",
       "      <th>4</th>\n",
       "      <td>2019-08-01 00:04:00</td>\n",
       "      <td>7.052986</td>\n",
       "      <td>9.161103</td>\n",
       "      <td>0.000000</td>\n",
       "      <td>0.000000</td>\n",
       "      <td>2.592095</td>\n",
       "      <td>3.800127</td>\n",
       "      <td>2.332304</td>\n",
       "      <td>6.322521</td>\n",
       "      <td>3.995392</td>\n",
       "      <td>2.237114</td>\n",
       "      <td>3.345624</td>\n",
       "      <td>2.310409</td>\n",
       "      <td>3.132799</td>\n",
       "      <td>2.676861</td>\n",
       "      <td>3.539026</td>\n",
       "      <td>3.797881</td>\n",
       "      <td>3.131560</td>\n",
       "      <td>6.363475</td>\n",
       "    </tr>\n",
       "    <tr>\n",
       "      <th>...</th>\n",
       "      <td>...</td>\n",
       "      <td>...</td>\n",
       "      <td>...</td>\n",
       "      <td>...</td>\n",
       "      <td>...</td>\n",
       "      <td>...</td>\n",
       "      <td>...</td>\n",
       "      <td>...</td>\n",
       "      <td>...</td>\n",
       "      <td>...</td>\n",
       "      <td>...</td>\n",
       "      <td>...</td>\n",
       "      <td>...</td>\n",
       "      <td>...</td>\n",
       "      <td>...</td>\n",
       "      <td>...</td>\n",
       "      <td>...</td>\n",
       "      <td>...</td>\n",
       "      <td>...</td>\n",
       "    </tr>\n",
       "    <tr>\n",
       "      <th>87835</th>\n",
       "      <td>2019-09-30 23:55:00</td>\n",
       "      <td>0.000000</td>\n",
       "      <td>6.122385</td>\n",
       "      <td>2.192198</td>\n",
       "      <td>2.083315</td>\n",
       "      <td>1.046250</td>\n",
       "      <td>0.000000</td>\n",
       "      <td>3.668421</td>\n",
       "      <td>3.006311</td>\n",
       "      <td>3.614301</td>\n",
       "      <td>1.860847</td>\n",
       "      <td>5.019769</td>\n",
       "      <td>3.154221</td>\n",
       "      <td>3.648026</td>\n",
       "      <td>2.439526</td>\n",
       "      <td>4.062719</td>\n",
       "      <td>1.854352</td>\n",
       "      <td>3.027539</td>\n",
       "      <td>7.259989</td>\n",
       "    </tr>\n",
       "    <tr>\n",
       "      <th>87836</th>\n",
       "      <td>2019-09-30 23:56:00</td>\n",
       "      <td>NaN</td>\n",
       "      <td>NaN</td>\n",
       "      <td>NaN</td>\n",
       "      <td>NaN</td>\n",
       "      <td>NaN</td>\n",
       "      <td>NaN</td>\n",
       "      <td>NaN</td>\n",
       "      <td>NaN</td>\n",
       "      <td>NaN</td>\n",
       "      <td>NaN</td>\n",
       "      <td>NaN</td>\n",
       "      <td>NaN</td>\n",
       "      <td>NaN</td>\n",
       "      <td>NaN</td>\n",
       "      <td>NaN</td>\n",
       "      <td>NaN</td>\n",
       "      <td>NaN</td>\n",
       "      <td>NaN</td>\n",
       "    </tr>\n",
       "    <tr>\n",
       "      <th>87837</th>\n",
       "      <td>2019-09-30 23:57:00</td>\n",
       "      <td>1.209176</td>\n",
       "      <td>6.152532</td>\n",
       "      <td>2.211421</td>\n",
       "      <td>0.000000</td>\n",
       "      <td>1.448103</td>\n",
       "      <td>0.000000</td>\n",
       "      <td>3.151248</td>\n",
       "      <td>2.871690</td>\n",
       "      <td>3.417942</td>\n",
       "      <td>2.185493</td>\n",
       "      <td>5.174168</td>\n",
       "      <td>2.772349</td>\n",
       "      <td>3.786657</td>\n",
       "      <td>2.060023</td>\n",
       "      <td>4.057525</td>\n",
       "      <td>1.870886</td>\n",
       "      <td>2.991946</td>\n",
       "      <td>7.134647</td>\n",
       "    </tr>\n",
       "    <tr>\n",
       "      <th>87838</th>\n",
       "      <td>2019-09-30 23:58:00</td>\n",
       "      <td>NaN</td>\n",
       "      <td>NaN</td>\n",
       "      <td>NaN</td>\n",
       "      <td>NaN</td>\n",
       "      <td>NaN</td>\n",
       "      <td>NaN</td>\n",
       "      <td>NaN</td>\n",
       "      <td>NaN</td>\n",
       "      <td>NaN</td>\n",
       "      <td>NaN</td>\n",
       "      <td>NaN</td>\n",
       "      <td>NaN</td>\n",
       "      <td>NaN</td>\n",
       "      <td>NaN</td>\n",
       "      <td>NaN</td>\n",
       "      <td>NaN</td>\n",
       "      <td>NaN</td>\n",
       "      <td>NaN</td>\n",
       "    </tr>\n",
       "    <tr>\n",
       "      <th>87839</th>\n",
       "      <td>2019-09-30 23:59:00</td>\n",
       "      <td>1.430442</td>\n",
       "      <td>6.078281</td>\n",
       "      <td>1.891162</td>\n",
       "      <td>0.000000</td>\n",
       "      <td>1.577491</td>\n",
       "      <td>4.364239</td>\n",
       "      <td>3.126339</td>\n",
       "      <td>3.287224</td>\n",
       "      <td>3.986978</td>\n",
       "      <td>2.013912</td>\n",
       "      <td>4.821829</td>\n",
       "      <td>3.363855</td>\n",
       "      <td>3.380110</td>\n",
       "      <td>1.949240</td>\n",
       "      <td>4.026304</td>\n",
       "      <td>1.862166</td>\n",
       "      <td>3.009434</td>\n",
       "      <td>7.179719</td>\n",
       "    </tr>\n",
       "  </tbody>\n",
       "</table>\n",
       "<p>87840 rows × 19 columns</p>\n",
       "</div>"
      ],
      "text/plain": [
       "                      Date      AC 1      AC 2      AC 3      AC 4      AC 5  \\\n",
       "0      2019-08-01 00:00:00  7.518632  8.788315  0.000000  0.000000  2.617045   \n",
       "1      2019-08-01 00:01:00       NaN       NaN       NaN       NaN       NaN   \n",
       "2      2019-08-01 00:02:00  7.426114  8.940615  0.000000  0.000000  2.581625   \n",
       "3      2019-08-01 00:03:00       NaN       NaN       NaN       NaN       NaN   \n",
       "4      2019-08-01 00:04:00  7.052986  9.161103  0.000000  0.000000  2.592095   \n",
       "...                    ...       ...       ...       ...       ...       ...   \n",
       "87835  2019-09-30 23:55:00  0.000000  6.122385  2.192198  2.083315  1.046250   \n",
       "87836  2019-09-30 23:56:00       NaN       NaN       NaN       NaN       NaN   \n",
       "87837  2019-09-30 23:57:00  1.209176  6.152532  2.211421  0.000000  1.448103   \n",
       "87838  2019-09-30 23:58:00       NaN       NaN       NaN       NaN       NaN   \n",
       "87839  2019-09-30 23:59:00  1.430442  6.078281  1.891162  0.000000  1.577491   \n",
       "\n",
       "           AC 6      AC 7      AC 8      AC 9     AC 10     AC 11     AC 12  \\\n",
       "0      4.079041  2.782276  4.624447  5.222060  2.151238  1.585072  0.560373   \n",
       "1           NaN       NaN       NaN       NaN       NaN       NaN       NaN   \n",
       "2      3.781231  2.529366  5.057423  5.349465  2.414715  2.168184  1.818730   \n",
       "3           NaN       NaN       NaN       NaN       NaN       NaN       NaN   \n",
       "4      3.800127  2.332304  6.322521  3.995392  2.237114  3.345624  2.310409   \n",
       "...         ...       ...       ...       ...       ...       ...       ...   \n",
       "87835  0.000000  3.668421  3.006311  3.614301  1.860847  5.019769  3.154221   \n",
       "87836       NaN       NaN       NaN       NaN       NaN       NaN       NaN   \n",
       "87837  0.000000  3.151248  2.871690  3.417942  2.185493  5.174168  2.772349   \n",
       "87838       NaN       NaN       NaN       NaN       NaN       NaN       NaN   \n",
       "87839  4.364239  3.126339  3.287224  3.986978  2.013912  4.821829  3.363855   \n",
       "\n",
       "          AC 13     AC 14     AC 15     AC 16     AC 17     AC 18  \n",
       "0      3.142941  2.749470  5.417774  4.113460  3.305072  6.735981  \n",
       "1           NaN       NaN       NaN       NaN       NaN       NaN  \n",
       "2      3.085110  2.720484  3.302422  3.986483  3.220588  6.379500  \n",
       "3           NaN       NaN       NaN       NaN       NaN       NaN  \n",
       "4      3.132799  2.676861  3.539026  3.797881  3.131560  6.363475  \n",
       "...         ...       ...       ...       ...       ...       ...  \n",
       "87835  3.648026  2.439526  4.062719  1.854352  3.027539  7.259989  \n",
       "87836       NaN       NaN       NaN       NaN       NaN       NaN  \n",
       "87837  3.786657  2.060023  4.057525  1.870886  2.991946  7.134647  \n",
       "87838       NaN       NaN       NaN       NaN       NaN       NaN  \n",
       "87839  3.380110  1.949240  4.026304  1.862166  3.009434  7.179719  \n",
       "\n",
       "[87840 rows x 19 columns]"
      ]
     },
     "execution_count": 2,
     "metadata": {},
     "output_type": "execute_result"
    }
   ],
   "source": [
    "data.rename({\"0\": \"Date\"}, axis='columns',inplace=True)\n",
    "data"
   ]
  },
  {
   "cell_type": "code",
   "execution_count": 3,
   "id": "d5b7c8cd",
   "metadata": {},
   "outputs": [
    {
     "name": "stdout",
     "output_type": "stream",
     "text": [
      "<class 'pandas.core.frame.DataFrame'>\n",
      "RangeIndex: 87840 entries, 0 to 87839\n",
      "Data columns (total 19 columns):\n",
      " #   Column  Non-Null Count  Dtype         \n",
      "---  ------  --------------  -----         \n",
      " 0   Date    87840 non-null  datetime64[ns]\n",
      " 1   AC 1    43708 non-null  float64       \n",
      " 2   AC 2    43711 non-null  float64       \n",
      " 3   AC 3    43713 non-null  float64       \n",
      " 4   AC 4    43704 non-null  float64       \n",
      " 5   AC 5    43716 non-null  float64       \n",
      " 6   AC 6    43717 non-null  float64       \n",
      " 7   AC 7    43679 non-null  float64       \n",
      " 8   AC 8    43704 non-null  float64       \n",
      " 9   AC 9    43654 non-null  float64       \n",
      " 10  AC 10   43690 non-null  float64       \n",
      " 11  AC 11   43670 non-null  float64       \n",
      " 12  AC 12   43713 non-null  float64       \n",
      " 13  AC 13   43719 non-null  float64       \n",
      " 14  AC 14   43696 non-null  float64       \n",
      " 15  AC 15   43715 non-null  float64       \n",
      " 16  AC 16   43710 non-null  float64       \n",
      " 17  AC 17   43714 non-null  float64       \n",
      " 18  AC 18   43723 non-null  float64       \n",
      "dtypes: datetime64[ns](1), float64(18)\n",
      "memory usage: 12.7 MB\n"
     ]
    }
   ],
   "source": [
    "# from datetime import datetime\n",
    "data['Date'] =  pd.to_datetime(data['Date'], format='%Y-%m-%d %H:%M:%S')\n",
    "data.info()"
   ]
  },
  {
   "cell_type": "code",
   "execution_count": 10,
   "id": "e1f2bd56",
   "metadata": {},
   "outputs": [],
   "source": [
    "data=data.set_index(\"Date\")"
   ]
  },
  {
   "cell_type": "markdown",
   "id": "04cb996b",
   "metadata": {},
   "source": [
    "## Missing Values Imputation"
   ]
  },
  {
   "cell_type": "code",
   "execution_count": 11,
   "id": "90dbbd0c",
   "metadata": {},
   "outputs": [
    {
     "data": {
      "text/plain": [
       "AC 1          0\n",
       "AC 2          0\n",
       "AC 3          0\n",
       "AC 4          0\n",
       "AC 5          0\n",
       "AC 6          0\n",
       "AC 7          0\n",
       "AC 8          0\n",
       "AC 9          0\n",
       "AC 10         0\n",
       "AC 11         0\n",
       "AC 12         0\n",
       "AC 13         0\n",
       "AC 14         0\n",
       "AC 15         0\n",
       "AC 16         0\n",
       "AC 17         0\n",
       "AC 18         0\n",
       "noise_AC 1    0\n",
       "dtype: int64"
      ]
     },
     "execution_count": 11,
     "metadata": {},
     "output_type": "execute_result"
    }
   ],
   "source": [
    "data.fillna(method=\"ffill\",inplace=True)\n",
    "data.isna().sum()"
   ]
  },
  {
   "cell_type": "markdown",
   "id": "0461a5bf",
   "metadata": {},
   "source": [
    "## Outlier Detection"
   ]
  },
  {
   "cell_type": "code",
   "execution_count": 53,
   "id": "9970f0e2",
   "metadata": {
    "scrolled": true
   },
   "outputs": [
    {
     "data": {
      "text/plain": [
       "<AxesSubplot:xlabel='AC 2', ylabel='Count'>"
      ]
     },
     "execution_count": 53,
     "metadata": {},
     "output_type": "execute_result"
    },
    {
     "data": {
      "image/png": "[encoded data removed]",
      "text/plain": [
       "<Figure size 432x288 with 1 Axes>"
      ]
     },
     "metadata": {
      "needs_background": "light"
     },
     "output_type": "display_data"
    }
   ],
   "source": [
    "sns.histplot(data=data, x=\"AC 2\", kde=True)"
   ]
  },
  {
   "cell_type": "markdown",
   "id": "b84be603",
   "metadata": {},
   "source": [
    "## Noisy data detection"
   ]
  },
  {
   "cell_type": "code",
   "execution_count": 54,
   "id": "13a503b1",
   "metadata": {},
   "outputs": [
    {
     "data": {
      "text/plain": [
       "array(['no'], dtype=object)"
      ]
     },
     "execution_count": 54,
     "metadata": {},
     "output_type": "execute_result"
    }
   ],
   "source": [
    "data['noise_AC 2']=data[\"AC \"].apply(lambda x: 'yes' if (x != x) else 'no' )\n",
    "data['noise_AC 2'].unique()"
   ]
  },
  {
   "cell_type": "markdown",
   "id": "4ddd0462",
   "metadata": {},
   "source": [
    "## Model Training"
   ]
  },
  {
   "cell_type": "code",
   "execution_count": 14,
   "id": "f4a0a0be",
   "metadata": {},
   "outputs": [
    {
     "name": "stdout",
     "output_type": "stream",
     "text": [
      "(70272,) (17568,)\n"
     ]
    }
   ],
   "source": [
    "num = 70272\n",
    "traindata = data.iloc[:num,1]\n",
    "testdata = data.iloc[num:,1]\n",
    "print(traindata.shape, testdata.shape)"
   ]
  },
  {
   "cell_type": "code",
   "execution_count": 44,
   "id": "1ba964ac",
   "metadata": {},
   "outputs": [
    {
     "data": {
      "text/plain": [
       "Date\n",
       "2019-09-18 19:12:00    2.751138\n",
       "2019-09-18 19:13:00    2.751138\n",
       "2019-09-18 19:14:00    4.052900\n",
       "2019-09-18 19:15:00    4.052900\n",
       "2019-09-18 19:16:00    4.440537\n",
       "                         ...   \n",
       "2019-09-30 23:55:00    6.122385\n",
       "2019-09-30 23:56:00    6.122385\n",
       "2019-09-30 23:57:00    6.152532\n",
       "2019-09-30 23:58:00    6.152532\n",
       "2019-09-30 23:59:00    6.078281\n",
       "Name: AC 2, Length: 17568, dtype: float64"
      ]
     },
     "execution_count": 44,
     "metadata": {},
     "output_type": "execute_result"
    }
   ],
   "source": [
    "testdata"
   ]
  },
  {
   "cell_type": "code",
   "execution_count": 15,
   "id": "37ee11a1",
   "metadata": {},
   "outputs": [
    {
     "data": {
      "text/plain": [
       "Date\n",
       "2019-08-01 00:00:00    8.788315\n",
       "2019-08-01 00:01:00    8.788315\n",
       "2019-08-01 00:02:00    8.940615\n",
       "2019-08-01 00:03:00    8.940615\n",
       "2019-08-01 00:04:00    9.161103\n",
       "                         ...   \n",
       "2019-09-18 19:07:00    3.307928\n",
       "2019-09-18 19:08:00    2.859510\n",
       "2019-09-18 19:09:00    2.859510\n",
       "2019-09-18 19:10:00    2.764639\n",
       "2019-09-18 19:11:00    2.764639\n",
       "Name: AC 2, Length: 70272, dtype: float64"
      ]
     },
     "execution_count": 15,
     "metadata": {},
     "output_type": "execute_result"
    }
   ],
   "source": [
    "traindata\n"
   ]
  },
  {
   "cell_type": "markdown",
   "id": "a00bedd1",
   "metadata": {},
   "source": [
    "# Auto Arima"
   ]
  },
  {
   "cell_type": "code",
   "execution_count": 17,
   "id": "557824e0",
   "metadata": {},
   "outputs": [
    {
     "name": "stderr",
     "output_type": "stream",
     "text": [
      "C:\\Users\\jaswa\\.conda\\envs\\ac\\lib\\site-packages\\pmdarima\\arima\\_validation.py:76: UserWarning: stepwise model cannot be fit in parallel (n_jobs=1). Falling back to stepwise parameter search.\n",
      "  warnings.warn('stepwise model cannot be fit in parallel (n_jobs=%i). '\n"
     ]
    },
    {
     "name": "stdout",
     "output_type": "stream",
     "text": [
      "Performing stepwise search to minimize aic\n",
      " ARIMA(2,0,2)(0,0,0)[0]             : AIC=121803.840, Time=74.36 sec\n",
      " ARIMA(0,0,0)(0,0,0)[0]             : AIC=421470.760, Time=1.30 sec\n",
      " ARIMA(1,0,0)(0,0,0)[0]             : AIC=inf, Time=3.48 sec\n",
      " ARIMA(0,0,1)(0,0,0)[0]             : AIC=329449.008, Time=13.80 sec\n",
      " ARIMA(1,0,2)(0,0,0)[0]             : AIC=123908.236, Time=22.28 sec\n",
      " ARIMA(2,0,1)(0,0,0)[0]             : AIC=122239.452, Time=44.13 sec\n",
      " ARIMA(3,0,2)(0,0,0)[0]             : AIC=118748.078, Time=97.70 sec\n",
      " ARIMA(3,0,1)(0,0,0)[0]             : AIC=121870.686, Time=60.79 sec\n",
      " ARIMA(4,0,2)(0,0,0)[0]             : AIC=122101.407, Time=109.81 sec\n",
      " ARIMA(3,0,3)(0,0,0)[0]             : AIC=120791.129, Time=116.63 sec\n",
      " ARIMA(2,0,3)(0,0,0)[0]             : AIC=121443.208, Time=106.99 sec\n",
      " ARIMA(4,0,1)(0,0,0)[0]             : AIC=121631.204, Time=91.96 sec\n",
      " ARIMA(4,0,3)(0,0,0)[0]             : AIC=118464.554, Time=129.15 sec\n",
      " ARIMA(5,0,3)(0,0,0)[0]             : AIC=118470.826, Time=138.70 sec\n",
      " ARIMA(4,0,4)(0,0,0)[0]             : AIC=118470.454, Time=134.16 sec\n",
      " ARIMA(3,0,4)(0,0,0)[0]             : AIC=118461.254, Time=111.48 sec\n",
      " ARIMA(2,0,4)(0,0,0)[0]             : AIC=120980.175, Time=65.27 sec\n",
      " ARIMA(3,0,5)(0,0,0)[0]             : AIC=118465.980, Time=130.74 sec\n",
      " ARIMA(2,0,5)(0,0,0)[0]             : AIC=120318.720, Time=85.64 sec\n",
      " ARIMA(4,0,5)(0,0,0)[0]             : AIC=118454.425, Time=143.31 sec\n",
      " ARIMA(5,0,5)(0,0,0)[0]             : AIC=118458.673, Time=175.63 sec\n",
      " ARIMA(5,0,4)(0,0,0)[0]             : AIC=118454.176, Time=181.47 sec\n",
      " ARIMA(5,0,4)(0,0,0)[0] intercept   : AIC=118478.868, Time=362.44 sec\n",
      "\n",
      "Best model:  ARIMA(5,0,4)(0,0,0)[0]          \n",
      "Total fit time: 2401.611 seconds\n"
     ]
    }
   ],
   "source": [
    "import pmdarima as pm\n",
    "\n",
    "model = pm.auto_arima(traindata, seasonal=False, test='adf',error_action='trace', n_jobs=-1, suppress_warnings=True, \n",
    "                      stepwise=True, trace=True)"
   ]
  },
  {
   "cell_type": "code",
   "execution_count": 81,
   "id": "c89b5b2f",
   "metadata": {
    "scrolled": true
   },
   "outputs": [
    {
     "data": {
      "text/html": [
       "<table class=\"simpletable\">\n",
       "<caption>SARIMAX Results</caption>\n",
       "<tr>\n",
       "  <th>Dep. Variable:</th>           <td>y</td>        <th>  No. Observations:  </th>    <td>70272</td>  \n",
       "</tr>\n",
       "<tr>\n",
       "  <th>Model:</th>           <td>SARIMAX(5, 0, 4)</td> <th>  Log Likelihood     </th> <td>-59217.088</td>\n",
       "</tr>\n",
       "<tr>\n",
       "  <th>Date:</th>            <td>Tue, 12 Apr 2022</td> <th>  AIC                </th> <td>118454.176</td>\n",
       "</tr>\n",
       "<tr>\n",
       "  <th>Time:</th>                <td>17:26:18</td>     <th>  BIC                </th> <td>118545.777</td>\n",
       "</tr>\n",
       "<tr>\n",
       "  <th>Sample:</th>                  <td>0</td>        <th>  HQIC               </th> <td>118482.423</td>\n",
       "</tr>\n",
       "<tr>\n",
       "  <th></th>                     <td> - 70272</td>     <th>                     </th>      <td> </td>    \n",
       "</tr>\n",
       "<tr>\n",
       "  <th>Covariance Type:</th>        <td>opg</td>       <th>                     </th>      <td> </td>    \n",
       "</tr>\n",
       "</table>\n",
       "<table class=\"simpletable\">\n",
       "<tr>\n",
       "     <td></td>       <th>coef</th>     <th>std err</th>      <th>z</th>      <th>P>|z|</th>  <th>[0.025</th>    <th>0.975]</th>  \n",
       "</tr>\n",
       "<tr>\n",
       "  <th>ar.L1</th>  <td>    0.4533</td> <td>    0.058</td> <td>    7.869</td> <td> 0.000</td> <td>    0.340</td> <td>    0.566</td>\n",
       "</tr>\n",
       "<tr>\n",
       "  <th>ar.L2</th>  <td>    0.3783</td> <td>    0.055</td> <td>    6.872</td> <td> 0.000</td> <td>    0.270</td> <td>    0.486</td>\n",
       "</tr>\n",
       "<tr>\n",
       "  <th>ar.L3</th>  <td>    0.5527</td> <td>    0.064</td> <td>    8.697</td> <td> 0.000</td> <td>    0.428</td> <td>    0.677</td>\n",
       "</tr>\n",
       "<tr>\n",
       "  <th>ar.L4</th>  <td>    0.2237</td> <td>    0.039</td> <td>    5.691</td> <td> 0.000</td> <td>    0.147</td> <td>    0.301</td>\n",
       "</tr>\n",
       "<tr>\n",
       "  <th>ar.L5</th>  <td>   -0.6081</td> <td>    0.028</td> <td>  -21.840</td> <td> 0.000</td> <td>   -0.663</td> <td>   -0.554</td>\n",
       "</tr>\n",
       "<tr>\n",
       "  <th>ma.L1</th>  <td>    0.5405</td> <td>    0.054</td> <td>    9.935</td> <td> 0.000</td> <td>    0.434</td> <td>    0.647</td>\n",
       "</tr>\n",
       "<tr>\n",
       "  <th>ma.L2</th>  <td>   -0.0668</td> <td>    0.038</td> <td>   -1.772</td> <td> 0.076</td> <td>   -0.141</td> <td>    0.007</td>\n",
       "</tr>\n",
       "<tr>\n",
       "  <th>ma.L3</th>  <td>   -0.5162</td> <td>    0.050</td> <td>  -10.273</td> <td> 0.000</td> <td>   -0.615</td> <td>   -0.418</td>\n",
       "</tr>\n",
       "<tr>\n",
       "  <th>ma.L4</th>  <td>   -0.8232</td> <td>    0.036</td> <td>  -23.149</td> <td> 0.000</td> <td>   -0.893</td> <td>   -0.754</td>\n",
       "</tr>\n",
       "<tr>\n",
       "  <th>sigma2</th> <td>    0.3158</td> <td>    0.000</td> <td>  728.152</td> <td> 0.000</td> <td>    0.315</td> <td>    0.317</td>\n",
       "</tr>\n",
       "</table>\n",
       "<table class=\"simpletable\">\n",
       "<tr>\n",
       "  <th>Ljung-Box (L1) (Q):</th>     <td>0.38</td> <th>  Jarque-Bera (JB):  </th> <td>11096949.14</td>\n",
       "</tr>\n",
       "<tr>\n",
       "  <th>Prob(Q):</th>                <td>0.54</td> <th>  Prob(JB):          </th>    <td>0.00</td>    \n",
       "</tr>\n",
       "<tr>\n",
       "  <th>Heteroskedasticity (H):</th> <td>1.60</td> <th>  Skew:              </th>    <td>-4.06</td>   \n",
       "</tr>\n",
       "<tr>\n",
       "  <th>Prob(H) (two-sided):</th>    <td>0.00</td> <th>  Kurtosis:          </th>    <td>64.02</td>   \n",
       "</tr>\n",
       "</table><br/><br/>Warnings:<br/>[1] Covariance matrix calculated using the outer product of gradients (complex-step)."
      ],
      "text/plain": [
       "<class 'statsmodels.iolib.summary.Summary'>\n",
       "\"\"\"\n",
       "                               SARIMAX Results                                \n",
       "==============================================================================\n",
       "Dep. Variable:                      y   No. Observations:                70272\n",
       "Model:               SARIMAX(5, 0, 4)   Log Likelihood              -59217.088\n",
       "Date:                Tue, 12 Apr 2022   AIC                         118454.176\n",
       "Time:                        17:26:18   BIC                         118545.777\n",
       "Sample:                             0   HQIC                        118482.423\n",
       "                              - 70272                                         \n",
       "Covariance Type:                  opg                                         \n",
       "==============================================================================\n",
       "                 coef    std err          z      P>|z|      [0.025      0.975]\n",
       "------------------------------------------------------------------------------\n",
       "ar.L1          0.4533      0.058      7.869      0.000       0.340       0.566\n",
       "ar.L2          0.3783      0.055      6.872      0.000       0.270       0.486\n",
       "ar.L3          0.5527      0.064      8.697      0.000       0.428       0.677\n",
       "ar.L4          0.2237      0.039      5.691      0.000       0.147       0.301\n",
       "ar.L5         -0.6081      0.028    -21.840      0.000      -0.663      -0.554\n",
       "ma.L1          0.5405      0.054      9.935      0.000       0.434       0.647\n",
       "ma.L2         -0.0668      0.038     -1.772      0.076      -0.141       0.007\n",
       "ma.L3         -0.5162      0.050    -10.273      0.000      -0.615      -0.418\n",
       "ma.L4         -0.8232      0.036    -23.149      0.000      -0.893      -0.754\n",
       "sigma2         0.3158      0.000    728.152      0.000       0.315       0.317\n",
       "===================================================================================\n",
       "Ljung-Box (L1) (Q):                   0.38   Jarque-Bera (JB):          11096949.14\n",
       "Prob(Q):                              0.54   Prob(JB):                         0.00\n",
       "Heteroskedasticity (H):               1.60   Skew:                            -4.06\n",
       "Prob(H) (two-sided):                  0.00   Kurtosis:                        64.02\n",
       "===================================================================================\n",
       "\n",
       "Warnings:\n",
       "[1] Covariance matrix calculated using the outer product of gradients (complex-step).\n",
       "\"\"\""
      ]
     },
     "execution_count": 81,
     "metadata": {},
     "output_type": "execute_result"
    }
   ],
   "source": [
    "model.summary()"
   ]
  },
  {
   "cell_type": "code",
   "execution_count": 82,
   "id": "ea89bd61",
   "metadata": {},
   "outputs": [
    {
     "data": {
      "text/plain": [
       "{'maxiter': 50,\n",
       " 'method': 'lbfgs',\n",
       " 'order': (5, 0, 4),\n",
       " 'out_of_sample_size': 0,\n",
       " 'scoring': 'mse',\n",
       " 'scoring_args': {},\n",
       " 'seasonal_order': (0, 0, 0, 0),\n",
       " 'start_params': None,\n",
       " 'suppress_warnings': True,\n",
       " 'trend': None,\n",
       " 'with_intercept': False}"
      ]
     },
     "execution_count": 82,
     "metadata": {},
     "output_type": "execute_result"
    }
   ],
   "source": [
    "model.get_params()"
   ]
  },
  {
   "cell_type": "code",
   "execution_count": 85,
   "id": "a0d420fb",
   "metadata": {},
   "outputs": [],
   "source": [
    "forecast_values=model.predict(n_periods=17568, return_conf_int=True)"
   ]
  },
  {
   "cell_type": "code",
   "execution_count": 98,
   "id": "b72e10f0",
   "metadata": {},
   "outputs": [],
   "source": [
    "final_pred_data = pd.DataFrame(forecast_values[0],index = testdata.index,columns=['Prediction'])"
   ]
  },
  {
   "cell_type": "code",
   "execution_count": 100,
   "id": "a6351e69",
   "metadata": {},
   "outputs": [
    {
     "data": {
      "text/html": [
       "<div>\n",
       "<style scoped>\n",
       "    .dataframe tbody tr th:only-of-type {\n",
       "        vertical-align: middle;\n",
       "    }\n",
       "\n",
       "    .dataframe tbody tr th {\n",
       "        vertical-align: top;\n",
       "    }\n",
       "\n",
       "    .dataframe thead th {\n",
       "        text-align: right;\n",
       "    }\n",
       "</style>\n",
       "<table border=\"1\" class=\"dataframe\">\n",
       "  <thead>\n",
       "    <tr style=\"text-align: right;\">\n",
       "      <th></th>\n",
       "      <th>Prediction</th>\n",
       "    </tr>\n",
       "    <tr>\n",
       "      <th>Date</th>\n",
       "      <th></th>\n",
       "    </tr>\n",
       "  </thead>\n",
       "  <tbody>\n",
       "    <tr>\n",
       "      <th>2019-09-18 19:12:00</th>\n",
       "      <td>3.056181</td>\n",
       "    </tr>\n",
       "    <tr>\n",
       "      <th>2019-09-18 19:13:00</th>\n",
       "      <td>3.072960</td>\n",
       "    </tr>\n",
       "    <tr>\n",
       "      <th>2019-09-18 19:14:00</th>\n",
       "      <td>3.264052</td>\n",
       "    </tr>\n",
       "    <tr>\n",
       "      <th>2019-09-18 19:15:00</th>\n",
       "      <td>3.258865</td>\n",
       "    </tr>\n",
       "    <tr>\n",
       "      <th>2019-09-18 19:16:00</th>\n",
       "      <td>3.412628</td>\n",
       "    </tr>\n",
       "    <tr>\n",
       "      <th>...</th>\n",
       "      <td>...</td>\n",
       "    </tr>\n",
       "    <tr>\n",
       "      <th>2019-09-30 23:55:00</th>\n",
       "      <td>0.025616</td>\n",
       "    </tr>\n",
       "    <tr>\n",
       "      <th>2019-09-30 23:56:00</th>\n",
       "      <td>0.025609</td>\n",
       "    </tr>\n",
       "    <tr>\n",
       "      <th>2019-09-30 23:57:00</th>\n",
       "      <td>0.025602</td>\n",
       "    </tr>\n",
       "    <tr>\n",
       "      <th>2019-09-30 23:58:00</th>\n",
       "      <td>0.025595</td>\n",
       "    </tr>\n",
       "    <tr>\n",
       "      <th>2019-09-30 23:59:00</th>\n",
       "      <td>0.025587</td>\n",
       "    </tr>\n",
       "  </tbody>\n",
       "</table>\n",
       "<p>17568 rows × 1 columns</p>\n",
       "</div>"
      ],
      "text/plain": [
       "                     Prediction\n",
       "Date                           \n",
       "2019-09-18 19:12:00    3.056181\n",
       "2019-09-18 19:13:00    3.072960\n",
       "2019-09-18 19:14:00    3.264052\n",
       "2019-09-18 19:15:00    3.258865\n",
       "2019-09-18 19:16:00    3.412628\n",
       "...                         ...\n",
       "2019-09-30 23:55:00    0.025616\n",
       "2019-09-30 23:56:00    0.025609\n",
       "2019-09-30 23:57:00    0.025602\n",
       "2019-09-30 23:58:00    0.025595\n",
       "2019-09-30 23:59:00    0.025587\n",
       "\n",
       "[17568 rows x 1 columns]"
      ]
     },
     "execution_count": 100,
     "metadata": {},
     "output_type": "execute_result"
    }
   ],
   "source": [
    "final_pred_data"
   ]
  },
  {
   "cell_type": "code",
   "execution_count": 101,
   "id": "64e30b8f",
   "metadata": {},
   "outputs": [],
   "source": [
    "final_pred_data=pd.concat([testdata,final_pred_data],axis=1)"
   ]
  },
  {
   "cell_type": "code",
   "execution_count": 126,
   "id": "7d6d64bd",
   "metadata": {},
   "outputs": [
    {
     "data": {
      "text/plain": [
       "<AxesSubplot:xlabel='Date'>"
      ]
     },
     "execution_count": 126,
     "metadata": {},
     "output_type": "execute_result"
    },
    {
     "data": {
      "image/png": "[encoded data removed]",
      "text/plain": [
       "<Figure size 432x288 with 1 Axes>"
      ]
     },
     "metadata": {
      "needs_background": "light"
     },
     "output_type": "display_data"
    }
   ],
   "source": [
    "final_pred_data.head(1000).plot()"
   ]
  },
  {
   "cell_type": "code",
   "execution_count": null,
   "id": "efeb2d2e",
   "metadata": {},
   "outputs": [],
   "source": []
  },
  {
   "cell_type": "code",
   "execution_count": null,
   "id": "fb61f30f",
   "metadata": {},
   "outputs": [],
   "source": []
  }
 ],
 "metadata": {
  "kernelspec": {
   "display_name": "Python 3 (ipykernel)",
   "language": "python",
   "name": "python3"
  },
  "language_info": {
   "codemirror_mode": {
    "name": "ipython",
    "version": 3
   },
   "file_extension": ".py",
   "mimetype": "text/x-python",
   "name": "python",
   "nbconvert_exporter": "python",
   "pygments_lexer": "ipython3",
   "version": "3.8.12"
  }
 },
 "nbformat": 4,
 "nbformat_minor": 5
}
